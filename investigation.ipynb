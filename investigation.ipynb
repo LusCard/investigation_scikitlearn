{
 "cells": [
  {
   "cell_type": "markdown",
   "id": "cd4f6f53",
   "metadata": {},
   "source": [
    "## Predicción del consumo de energía eléctrica\n",
    "El consumo de energía eléctrica es una variable clave en la planificación económica, ambiental y de infraestructura. Poder predecirlo en base a ciertas condiciones permite planificar la generación eléctrica, evitar cortes de energía, promover la eficiencia energética y diseñar políticas públicas."
   ]
  },
  {
   "cell_type": "code",
   "execution_count": null,
   "id": "b1ada0e6",
   "metadata": {
    "vscode": {
     "languageId": "plaintext"
    }
   },
   "outputs": [],
   "source": []
  }
 ],
 "metadata": {
  "language_info": {
   "name": "python"
  }
 },
 "nbformat": 4,
 "nbformat_minor": 5
}
